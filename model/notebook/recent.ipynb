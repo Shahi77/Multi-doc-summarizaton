{
 "cells": [
  {
   "cell_type": "code",
   "execution_count": 4,
   "metadata": {},
   "outputs": [
    {
     "name": "stdout",
     "output_type": "stream",
     "text": [
      "Total number of text files in /home/bhargav/Desktop/model/main-mds/Multi-doc-summarizaton/datasets/final/Whole_text_data: 608\n",
      "Total number of text files in /home/bhargav/Desktop/model/main-mds/Multi-doc-summarizaton/datasets/final/Summaries: 608\n",
      "Total number of text files in /home/bhargav/Desktop/model/main-mds/Multi-doc-summarizaton/datasets/final/Summary_Data_new: 608\n"
     ]
    }
   ],
   "source": [
    "import os\n",
    "\n",
    "relative_paths = [\n",
    "    '../../datasets/final/Whole_text_data',\n",
    "    '../../datasets/final/Summaries',\n",
    "    '../../datasets/final/Summary_Data_new'\n",
    "]\n",
    "\n",
    "# Function to count text files in a directory\n",
    "def count_text_files(directory):\n",
    "    if not os.path.isdir(directory):\n",
    "        print(f\"The directory {directory} does not exist.\")\n",
    "        return 0\n",
    "    else:\n",
    "        files = os.listdir(directory)\n",
    "        text_files = [f for f in files if f.endswith('.txt')]\n",
    "        return len(text_files)\n",
    "\n",
    "# Process each folder\n",
    "for relative_path in relative_paths:\n",
    "    directory = os.path.abspath(relative_path)\n",
    "    num_text_files = count_text_files(directory)\n",
    "    print(f\"Total number of text files in {directory}: {num_text_files}\")\n"
   ]
  },
  {
   "cell_type": "code",
   "execution_count": 17,
   "metadata": {},
   "outputs": [],
   "source": [
    "import numpy as np\n",
    "import os\n",
    "import pandas as pd\n",
    "import re"
   ]
  },
  {
   "cell_type": "code",
   "execution_count": 10,
   "metadata": {},
   "outputs": [],
   "source": [
    "import os \n",
    "news_category=[\"task\"]\n",
    "\n",
    "row_doc = os.path.abspath(relative_paths[0])  # assuming data is good quality\n",
    "summary_doc = os.path.abspath(relative_paths[1]) \n",
    "\n",
    "data={\"articles\":[], \"summaries\":[]}"
   ]
  },
  {
   "cell_type": "code",
   "execution_count": 38,
   "metadata": {},
   "outputs": [
    {
     "name": "stdout",
     "output_type": "stream",
     "text": [
      "         id                                        row_article  \\\n",
      "0  P95-1021  \\nD-Tree Grammars\\n\\ndesigned to share some of...   \n",
      "1  P05-1073  \\nJoint Learning Improves Semantic Role Labeli...   \n",
      "2  D09-1127  \\nBilingually-Constrained (Monolingual) Shift-...   \n",
      "3  P02-1017  \\nA Generative Constituent-Context Model For I...   \n",
      "4  J90-1003  \\nWord Association Norms Mutual Information An...   \n",
      "\n",
      "                                             summary  \n",
      "0  We define a new grammar formalism, called D-Tr...  \n",
      "1  Title: Joint Learning Improves Semantic Role L...  \n",
      "2  Conclusion: We have presented a novel parsing ...  \n",
      "3  Title: A Generative Constituent-Context Model ...  \n",
      "4  We began this paper with the psycholinguistic ...  \n"
     ]
    },
    {
     "data": {
      "text/plain": [
       "608"
      ]
     },
     "execution_count": 38,
     "metadata": {},
     "output_type": "execute_result"
    }
   ],
   "source": [
    "import os\n",
    "import pandas as pd\n",
    "\n",
    "relative_paths = [\n",
    "    '../../datasets/final/Whole_text_data',\n",
    "    '../../datasets/final/Summaries',\n",
    "    '../../datasets/final/Summary_Data_new'\n",
    "]\n",
    "\n",
    "\n",
    "# Define directories containing the articles and summaries\n",
    "articles_dir = os.path.abspath(relative_paths[0]) \n",
    "summaries_dir = os.path.abspath(relative_paths[1]) \n",
    "\n",
    "# Initialize lists to store filenames and their content\n",
    "article_ids = []\n",
    "article_texts = []\n",
    "summary_ids = []\n",
    "summary_texts = []\n",
    "\n",
    "# Function to extract the first 8 digits from filenames\n",
    "def extract_id(filename):\n",
    "    return filename[:8]\n",
    "\n",
    "# Read articles\n",
    "for filename in os.listdir(articles_dir):\n",
    "    if filename.endswith('.txt'):\n",
    "        path = os.path.join(articles_dir, filename)\n",
    "        with open(path, 'r', encoding='utf-8') as file:\n",
    "            article_ids.append(extract_id(filename))\n",
    "            article_texts.append(file.read())\n",
    "\n",
    "# Read summaries\n",
    "for filename in os.listdir(summaries_dir):\n",
    "    if filename.endswith('.txt'):\n",
    "        path = os.path.join(summaries_dir, filename)\n",
    "        with open(path, 'r', encoding='utf-8') as file:\n",
    "            summary_ids.append(extract_id(filename))\n",
    "            summary_texts.append(file.read())\n",
    "\n",
    "# Create DataFrames\n",
    "articles_df = pd.DataFrame({\n",
    "    'id': article_ids,\n",
    "    'row_article': article_texts\n",
    "})\n",
    "\n",
    "summaries_df = pd.DataFrame({\n",
    "    'id': summary_ids,\n",
    "    'summary': summary_texts\n",
    "})\n",
    "\n",
    "# Merge the DataFrames on the 'id' column\n",
    "combined_df = pd.merge(articles_df, summaries_df, on='id', how='inner')\n",
    "\n",
    "# Display the first few rows\n",
    "print(combined_df.head())\n",
    "len(combined_df)"
   ]
  },
  {
   "cell_type": "code",
   "execution_count": 33,
   "metadata": {},
   "outputs": [],
   "source": [
    "def cleantext(text):\n",
    "    text = str(text)\n",
    "    text=text.split()\n",
    "    words=[]\n",
    "    for t in text:\n",
    "        if t.isalpha():\n",
    "            words.append(t)\n",
    "    text=\" \".join(words)\n",
    "    text=text.lower()\n",
    "    text=re.sub(r\"what's\",\"what is \",text)\n",
    "    text=re.sub(r\"it's\",\"it is \",text)\n",
    "    text=re.sub(r\"\\'ve\",\" have \",text)\n",
    "    text=re.sub(r\"i'm\",\"i am \",text)\n",
    "    text=re.sub(r\"\\'re\",\" are \",text)\n",
    "    text=re.sub(r\"n't\",\" not \",text)\n",
    "    text=re.sub(r\"\\'d\",\" would \",text)\n",
    "    text=re.sub(r\"\\'s\",\"s\",text)\n",
    "    text=re.sub(r\"\\'ll\",\" will \",text)\n",
    "    text=re.sub(r\"can't\",\" cannot \",text)\n",
    "    text=re.sub(r\" e g \",\" eg \",text)\n",
    "    text=re.sub(r\"e-mail\",\"email\",text)\n",
    "    text=re.sub(r\"9\\\\/11\",\" 911 \",text)\n",
    "    text=re.sub(r\" u.s\",\" american \",text)\n",
    "    text=re.sub(r\" u.n\",\" united nations \",text)\n",
    "    text=re.sub(r\"\\n\",\" \",text)\n",
    "    text=re.sub(r\":\",\" \",text)\n",
    "    text=re.sub(r\"-\",\" \",text)\n",
    "    text=re.sub(r\"\\_\",\" \",text)\n",
    "    text=re.sub(r\"\\d+\",\" \",text)\n",
    "    text=re.sub(r\"[$#@%&*!~?%{}()]\",\" \",text)\n",
    "    \n",
    "    return text"
   ]
  },
  {
   "cell_type": "code",
   "execution_count": 34,
   "metadata": {},
   "outputs": [],
   "source": [
    "for col in combined_df.columns:\n",
    "    combined_df[col] = combined_df[col].apply(lambda x: cleantext(x))"
   ]
  },
  {
   "cell_type": "code",
   "execution_count": 40,
   "metadata": {},
   "outputs": [
    {
     "name": "stdout",
     "output_type": "stream",
     "text": [
      "         id                                        row_article  \\\n",
      "0  P95-1021  \\nD-Tree Grammars\\n\\ndesigned to share some of...   \n",
      "1  P05-1073  \\nJoint Learning Improves Semantic Role Labeli...   \n",
      "2  D09-1127  \\nBilingually-Constrained (Monolingual) Shift-...   \n",
      "3  P02-1017  \\nA Generative Constituent-Context Model For I...   \n",
      "4  J90-1003  \\nWord Association Norms Mutual Information An...   \n",
      "\n",
      "                                             summary  \n",
      "0  We define a new grammar formalism, called D-Tr...  \n",
      "1  Title: Joint Learning Improves Semantic Role L...  \n",
      "2  Conclusion: We have presented a novel parsing ...  \n",
      "3  Title: A Generative Constituent-Context Model ...  \n",
      "4  We began this paper with the psycholinguistic ...  \n"
     ]
    },
    {
     "data": {
      "text/plain": [
       "608"
      ]
     },
     "execution_count": 40,
     "metadata": {},
     "output_type": "execute_result"
    }
   ],
   "source": [
    "# Display the first few rows\n",
    "print(combined_df.head())\n",
    "len(combined_df)"
   ]
  },
  {
   "cell_type": "code",
   "execution_count": 43,
   "metadata": {},
   "outputs": [
    {
     "name": "stdout",
     "output_type": "stream",
     "text": [
      "       row_article_length  summary_length\n",
      "count          608.000000      608.000000\n",
      "mean         25104.498355      796.146382\n",
      "std           8052.906328      262.361447\n",
      "min           5172.000000      344.000000\n",
      "25%          21365.750000      636.750000\n",
      "50%          24897.000000      750.500000\n",
      "75%          28247.000000      916.000000\n",
      "max         118476.000000     4064.000000\n"
     ]
    }
   ],
   "source": [
    "# Basic statistics about the text lengths\n",
    "combined_df['row_article_length'] = combined_df['row_article'].apply(len)\n",
    "combined_df['summary_length'] = combined_df['summary'].apply(len)\n",
    "\n",
    "print(combined_df[['row_article_length', 'summary_length']].describe())\n"
   ]
  },
  {
   "cell_type": "code",
   "execution_count": 44,
   "metadata": {},
   "outputs": [
    {
     "name": "stdout",
     "output_type": "stream",
     "text": [
      "0 duplicate IDs found\n",
      "608 unique IDs\n"
     ]
    }
   ],
   "source": [
    "# Check for duplicate IDs\n",
    "print(combined_df['id'].duplicated().sum(), \"duplicate IDs found\")\n",
    "\n",
    "# Check for unique IDs\n",
    "print(len(combined_df['id'].unique()), \"unique IDs\")\n"
   ]
  },
  {
   "cell_type": "code",
   "execution_count": 47,
   "metadata": {},
   "outputs": [
    {
     "name": "stdout",
     "output_type": "stream",
     "text": [
      "Data saved to /home/bhargav/Desktop/model/main-mds/Multi-doc-summarizaton/model/notebook/cleaned_articles.csv\n"
     ]
    }
   ],
   "source": [
    "import pandas as pd\n",
    "\n",
    "# Add an index column\n",
    "combined_df.insert(0, 'index', range(len(combined_df)))\n",
    "# Define the file path for the CSV output\n",
    "output_csv_path = os.path.abspath('cleaned_articles.csv')\n",
    "\n",
    "\n",
    "# Save the DataFrame to a CSV file with UTF-8 encoding\n",
    "combined_df.to_csv(output_csv_path, index=False, encoding='utf-8-sig')\n",
    "\n",
    "\n",
    "print(f\"Data saved to {output_csv_path}\")\n"
   ]
  },
  {
   "cell_type": "code",
   "execution_count": 48,
   "metadata": {},
   "outputs": [],
   "source": [
    "'''\n",
    "    Tokenization\n",
    "'''\n",
    "import numpy as np\n",
    "import os\n",
    "import pandas as pd\n",
    "import re"
   ]
  },
  {
   "cell_type": "code",
   "execution_count": 50,
   "metadata": {},
   "outputs": [
    {
     "data": {
      "text/html": [
       "<div>\n",
       "<style scoped>\n",
       "    .dataframe tbody tr th:only-of-type {\n",
       "        vertical-align: middle;\n",
       "    }\n",
       "\n",
       "    .dataframe tbody tr th {\n",
       "        vertical-align: top;\n",
       "    }\n",
       "\n",
       "    .dataframe thead th {\n",
       "        text-align: right;\n",
       "    }\n",
       "</style>\n",
       "<table border=\"1\" class=\"dataframe\">\n",
       "  <thead>\n",
       "    <tr style=\"text-align: right;\">\n",
       "      <th></th>\n",
       "      <th>index</th>\n",
       "      <th>id</th>\n",
       "      <th>row_article</th>\n",
       "      <th>summary</th>\n",
       "      <th>row_article_length</th>\n",
       "      <th>summary_length</th>\n",
       "    </tr>\n",
       "  </thead>\n",
       "  <tbody>\n",
       "    <tr>\n",
       "      <th>0</th>\n",
       "      <td>0</td>\n",
       "      <td>P95-1021</td>\n",
       "      <td>\\nD-Tree Grammars\\n\\ndesigned to share some of...</td>\n",
       "      <td>We define a new grammar formalism, called D-Tr...</td>\n",
       "      <td>41955</td>\n",
       "      <td>991</td>\n",
       "    </tr>\n",
       "    <tr>\n",
       "      <th>1</th>\n",
       "      <td>1</td>\n",
       "      <td>P05-1073</td>\n",
       "      <td>\\nJoint Learning Improves Semantic Role Labeli...</td>\n",
       "      <td>Title: Joint Learning Improves Semantic Role L...</td>\n",
       "      <td>25074</td>\n",
       "      <td>593</td>\n",
       "    </tr>\n",
       "    <tr>\n",
       "      <th>2</th>\n",
       "      <td>2</td>\n",
       "      <td>D09-1127</td>\n",
       "      <td>\\nBilingually-Constrained (Monolingual) Shift-...</td>\n",
       "      <td>Conclusion: We have presented a novel parsing ...</td>\n",
       "      <td>25469</td>\n",
       "      <td>792</td>\n",
       "    </tr>\n",
       "    <tr>\n",
       "      <th>3</th>\n",
       "      <td>3</td>\n",
       "      <td>P02-1017</td>\n",
       "      <td>\\nA Generative Constituent-Context Model For I...</td>\n",
       "      <td>Title: A Generative Constituent-Context Model ...</td>\n",
       "      <td>25110</td>\n",
       "      <td>688</td>\n",
       "    </tr>\n",
       "    <tr>\n",
       "      <th>4</th>\n",
       "      <td>4</td>\n",
       "      <td>J90-1003</td>\n",
       "      <td>\\nWord Association Norms Mutual Information An...</td>\n",
       "      <td>We began this paper with the psycholinguistic ...</td>\n",
       "      <td>36063</td>\n",
       "      <td>873</td>\n",
       "    </tr>\n",
       "  </tbody>\n",
       "</table>\n",
       "</div>"
      ],
      "text/plain": [
       "   index        id                                        row_article  \\\n",
       "0      0  P95-1021  \\nD-Tree Grammars\\n\\ndesigned to share some of...   \n",
       "1      1  P05-1073  \\nJoint Learning Improves Semantic Role Labeli...   \n",
       "2      2  D09-1127  \\nBilingually-Constrained (Monolingual) Shift-...   \n",
       "3      3  P02-1017  \\nA Generative Constituent-Context Model For I...   \n",
       "4      4  J90-1003  \\nWord Association Norms Mutual Information An...   \n",
       "\n",
       "                                             summary  row_article_length  \\\n",
       "0  We define a new grammar formalism, called D-Tr...               41955   \n",
       "1  Title: Joint Learning Improves Semantic Role L...               25074   \n",
       "2  Conclusion: We have presented a novel parsing ...               25469   \n",
       "3  Title: A Generative Constituent-Context Model ...               25110   \n",
       "4  We began this paper with the psycholinguistic ...               36063   \n",
       "\n",
       "   summary_length  \n",
       "0             991  \n",
       "1             593  \n",
       "2             792  \n",
       "3             688  \n",
       "4             873  "
      ]
     },
     "execution_count": 50,
     "metadata": {},
     "output_type": "execute_result"
    }
   ],
   "source": [
    "df = pd.read_csv(\"cleaned_articles.csv\")\n",
    "\n",
    "df.head()"
   ]
  },
  {
   "cell_type": "code",
   "execution_count": 51,
   "metadata": {},
   "outputs": [],
   "source": [
    "articles = list(df.row_article)\n",
    "summaries = list(df.summary)"
   ]
  },
  {
   "cell_type": "code",
   "execution_count": null,
   "metadata": {},
   "outputs": [],
   "source": [
    "import torch\n",
    "from transformers import BertTokenizer\n",
    "\n",
    "\n",
    "# Initialize BERT tokenizer (you can choose other tokenizers as well)\n",
    "tokenizer = BertTokenizer.from_pretrained('bert-base-uncased')\n",
    "\n",
    "# Tokenize and encode articles\n",
    "encoded_articles = [tokenizer.encode(article, add_special_tokens=True, truncation=True, padding='max_length', max_length=512) for article in articles]\n",
    "\n",
    "# Convert to tensors\n",
    "article_sequences = [torch.tensor(seq, dtype=torch.long) for seq in encoded_articles]\n",
    "\n",
    "# Vocabulary size\n",
    "vocab_size = len(tokenizer)\n",
    "\n",
    "# Print vocabulary size and some sample sequences\n",
    "print(f\"Vocabulary Size: {vocab_size}\")\n",
    "print(f\"Sample Sequences: {article_sequences[:2]}\")\n"
   ]
  }
 ],
 "metadata": {
  "kernelspec": {
   "display_name": "pytorch_env",
   "language": "python",
   "name": "python3"
  },
  "language_info": {
   "codemirror_mode": {
    "name": "ipython",
    "version": 3
   },
   "file_extension": ".py",
   "mimetype": "text/x-python",
   "name": "python",
   "nbconvert_exporter": "python",
   "pygments_lexer": "ipython3",
   "version": "3.12.3"
  }
 },
 "nbformat": 4,
 "nbformat_minor": 2
}
