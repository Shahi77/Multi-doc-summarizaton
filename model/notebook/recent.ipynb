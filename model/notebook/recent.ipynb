{
 "cells": [
  {
   "cell_type": "code",
   "execution_count": 4,
   "metadata": {},
   "outputs": [
    {
     "name": "stdout",
     "output_type": "stream",
     "text": [
      "Total number of text files in /home/bhargav/Desktop/model/main-mds/Multi-doc-summarizaton/datasets/final/Whole_text_data: 608\n",
      "Total number of text files in /home/bhargav/Desktop/model/main-mds/Multi-doc-summarizaton/datasets/final/Summaries: 608\n",
      "Total number of text files in /home/bhargav/Desktop/model/main-mds/Multi-doc-summarizaton/datasets/final/Summary_Data_new: 608\n"
     ]
    }
   ],
   "source": [
    "import os\n",
    "\n",
    "relative_paths = [\n",
    "    '../../datasets/final/Whole_text_data',\n",
    "    '../../datasets/final/Summaries',\n",
    "    '../../datasets/final/Summary_Data_new'\n",
    "]\n",
    "\n",
    "# Function to count text files in a directory\n",
    "def count_text_files(directory):\n",
    "    if not os.path.isdir(directory):\n",
    "        print(f\"The directory {directory} does not exist.\")\n",
    "        return 0\n",
    "    else:\n",
    "        files = os.listdir(directory)\n",
    "        text_files = [f for f in files if f.endswith('.txt')]\n",
    "        return len(text_files)\n",
    "\n",
    "# Process each folder\n",
    "for relative_path in relative_paths:\n",
    "    directory = os.path.abspath(relative_path)\n",
    "    num_text_files = count_text_files(directory)\n",
    "    print(f\"Total number of text files in {directory}: {num_text_files}\")\n"
   ]
  },
  {
   "cell_type": "code",
   "execution_count": 17,
   "metadata": {},
   "outputs": [],
   "source": [
    "import numpy as np\n",
    "import os\n",
    "import pandas as pd\n",
    "import re"
   ]
  },
  {
   "cell_type": "code",
   "execution_count": 10,
   "metadata": {},
   "outputs": [],
   "source": [
    "import os \n",
    "news_category=[\"task\"]\n",
    "\n",
    "row_doc = os.path.abspath(relative_paths[0])  # assuming data is good quality\n",
    "summary_doc = os.path.abspath(relative_paths[1]) \n",
    "\n",
    "data={\"articles\":[], \"summaries\":[]}"
   ]
  },
  {
   "cell_type": "code",
   "execution_count": 38,
   "metadata": {},
   "outputs": [
    {
     "name": "stdout",
     "output_type": "stream",
     "text": [
      "         id                                        row_article  \\\n",
      "0  P95-1021  \\nD-Tree Grammars\\n\\ndesigned to share some of...   \n",
      "1  P05-1073  \\nJoint Learning Improves Semantic Role Labeli...   \n",
      "2  D09-1127  \\nBilingually-Constrained (Monolingual) Shift-...   \n",
      "3  P02-1017  \\nA Generative Constituent-Context Model For I...   \n",
      "4  J90-1003  \\nWord Association Norms Mutual Information An...   \n",
      "\n",
      "                                             summary  \n",
      "0  We define a new grammar formalism, called D-Tr...  \n",
      "1  Title: Joint Learning Improves Semantic Role L...  \n",
      "2  Conclusion: We have presented a novel parsing ...  \n",
      "3  Title: A Generative Constituent-Context Model ...  \n",
      "4  We began this paper with the psycholinguistic ...  \n"
     ]
    },
    {
     "data": {
      "text/plain": [
       "608"
      ]
     },
     "execution_count": 38,
     "metadata": {},
     "output_type": "execute_result"
    }
   ],
   "source": [
    "import os\n",
    "import pandas as pd\n",
    "\n",
    "relative_paths = [\n",
    "    '../../datasets/final/Whole_text_data',\n",
    "    '../../datasets/final/Summaries',\n",
    "    '../../datasets/final/Summary_Data_new'\n",
    "]\n",
    "\n",
    "\n",
    "# Define directories containing the articles and summaries\n",
    "articles_dir = os.path.abspath(relative_paths[0]) \n",
    "summaries_dir = os.path.abspath(relative_paths[1]) \n",
    "\n",
    "# Initialize lists to store filenames and their content\n",
    "article_ids = []\n",
    "article_texts = []\n",
    "summary_ids = []\n",
    "summary_texts = []\n",
    "\n",
    "# Function to extract the first 8 digits from filenames\n",
    "def extract_id(filename):\n",
    "    return filename[:8]\n",
    "\n",
    "# Read articles\n",
    "for filename in os.listdir(articles_dir):\n",
    "    if filename.endswith('.txt'):\n",
    "        path = os.path.join(articles_dir, filename)\n",
    "        with open(path, 'r', encoding='utf-8') as file:\n",
    "            article_ids.append(extract_id(filename))\n",
    "            article_texts.append(file.read())\n",
    "\n",
    "# Read summaries\n",
    "for filename in os.listdir(summaries_dir):\n",
    "    if filename.endswith('.txt'):\n",
    "        path = os.path.join(summaries_dir, filename)\n",
    "        with open(path, 'r', encoding='utf-8') as file:\n",
    "            summary_ids.append(extract_id(filename))\n",
    "            summary_texts.append(file.read())\n",
    "\n",
    "# Create DataFrames\n",
    "articles_df = pd.DataFrame({\n",
    "    'id': article_ids,\n",
    "    'row_article': article_texts\n",
    "})\n",
    "\n",
    "summaries_df = pd.DataFrame({\n",
    "    'id': summary_ids,\n",
    "    'summary': summary_texts\n",
    "})\n",
    "\n",
    "# Merge the DataFrames on the 'id' column\n",
    "combined_df = pd.merge(articles_df, summaries_df, on='id', how='inner')\n",
    "\n",
    "# Display the first few rows\n",
    "print(combined_df.head())\n",
    "len(combined_df)"
   ]
  },
  {
   "cell_type": "code",
   "execution_count": 33,
   "metadata": {},
   "outputs": [],
   "source": [
    "def cleantext(text):\n",
    "    text = str(text)\n",
    "    text=text.split()\n",
    "    words=[]\n",
    "    for t in text:\n",
    "        if t.isalpha():\n",
    "            words.append(t)\n",
    "    text=\" \".join(words)\n",
    "    text=text.lower()\n",
    "    text=re.sub(r\"what's\",\"what is \",text)\n",
    "    text=re.sub(r\"it's\",\"it is \",text)\n",
    "    text=re.sub(r\"\\'ve\",\" have \",text)\n",
    "    text=re.sub(r\"i'm\",\"i am \",text)\n",
    "    text=re.sub(r\"\\'re\",\" are \",text)\n",
    "    text=re.sub(r\"n't\",\" not \",text)\n",
    "    text=re.sub(r\"\\'d\",\" would \",text)\n",
    "    text=re.sub(r\"\\'s\",\"s\",text)\n",
    "    text=re.sub(r\"\\'ll\",\" will \",text)\n",
    "    text=re.sub(r\"can't\",\" cannot \",text)\n",
    "    text=re.sub(r\" e g \",\" eg \",text)\n",
    "    text=re.sub(r\"e-mail\",\"email\",text)\n",
    "    text=re.sub(r\"9\\\\/11\",\" 911 \",text)\n",
    "    text=re.sub(r\" u.s\",\" american \",text)\n",
    "    text=re.sub(r\" u.n\",\" united nations \",text)\n",
    "    text=re.sub(r\"\\n\",\" \",text)\n",
    "    text=re.sub(r\":\",\" \",text)\n",
    "    text=re.sub(r\"-\",\" \",text)\n",
    "    text=re.sub(r\"\\_\",\" \",text)\n",
    "    text=re.sub(r\"\\d+\",\" \",text)\n",
    "    text=re.sub(r\"[$#@%&*!~?%{}()]\",\" \",text)\n",
    "    \n",
    "    return text"
   ]
  },
  {
   "cell_type": "code",
   "execution_count": 34,
   "metadata": {},
   "outputs": [],
   "source": [
    "for col in combined_df.columns:\n",
    "    combined_df[col] = combined_df[col].apply(lambda x: cleantext(x))"
   ]
  },
  {
   "cell_type": "code",
   "execution_count": 37,
   "metadata": {},
   "outputs": [
    {
     "name": "stdout",
     "output_type": "stream",
     "text": [
      "         id                                        row_article  \\\n",
      "0  P95-1021  \\nD-Tree Grammars\\n\\ndesigned to share some of...   \n",
      "1  P05-1073  \\nJoint Learning Improves Semantic Role Labeli...   \n",
      "2  D09-1127  \\nBilingually-Constrained (Monolingual) Shift-...   \n",
      "3  P02-1017  \\nA Generative Constituent-Context Model For I...   \n",
      "4  J90-1003  \\nWord Association Norms Mutual Information An...   \n",
      "\n",
      "                                             summary  \n",
      "0  We define a new grammar formalism, called D-Tr...  \n",
      "1  Title: Joint Learning Improves Semantic Role L...  \n",
      "2  Conclusion: We have presented a novel parsing ...  \n",
      "3  Title: A Generative Constituent-Context Model ...  \n",
      "4  We began this paper with the psycholinguistic ...  \n"
     ]
    },
    {
     "data": {
      "text/plain": [
       "608"
      ]
     },
     "execution_count": 37,
     "metadata": {},
     "output_type": "execute_result"
    }
   ],
   "source": [
    "# Display the first few rows\n",
    "print(combined_df.head())\n",
    "len(combined_df)"
   ]
  },
  {
   "cell_type": "code",
   "execution_count": null,
   "metadata": {},
   "outputs": [],
   "source": [
    "len_list =[]\n",
    "for article in df.row_article:\n",
    "    words = article.split()\n",
    "    length = len(words)\n",
    "    len_list.append(length)\n",
    "max(len_list)"
   ]
  },
  {
   "cell_type": "code",
   "execution_count": null,
   "metadata": {},
   "outputs": [],
   "source": []
  },
  {
   "cell_type": "code",
   "execution_count": null,
   "metadata": {},
   "outputs": [],
   "source": []
  },
  {
   "cell_type": "code",
   "execution_count": null,
   "metadata": {},
   "outputs": [],
   "source": []
  },
  {
   "cell_type": "code",
   "execution_count": null,
   "metadata": {},
   "outputs": [],
   "source": []
  },
  {
   "cell_type": "code",
   "execution_count": null,
   "metadata": {},
   "outputs": [],
   "source": []
  }
 ],
 "metadata": {
  "kernelspec": {
   "display_name": "pytorch_env",
   "language": "python",
   "name": "python3"
  },
  "language_info": {
   "codemirror_mode": {
    "name": "ipython",
    "version": 3
   },
   "file_extension": ".py",
   "mimetype": "text/x-python",
   "name": "python",
   "nbconvert_exporter": "python",
   "pygments_lexer": "ipython3",
   "version": "3.12.3"
  }
 },
 "nbformat": 4,
 "nbformat_minor": 2
}
